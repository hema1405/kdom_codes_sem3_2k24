{
  "metadata": {
    "kernelspec": {
      "name": "python",
      "display_name": "Python (Pyodide)",
      "language": "python"
    },
    "language_info": {
      "codemirror_mode": {
        "name": "python",
        "version": 3
      },
      "file_extension": ".py",
      "mimetype": "text/x-python",
      "name": "python",
      "nbconvert_exporter": "python",
      "pygments_lexer": "ipython3",
      "version": "3.8"
    }
  },
  "nbformat_minor": 4,
  "nbformat": 4,
  "cells": [
    {
      "cell_type": "code",
      "source": "import sympy as sp\nimport numpy as np\nimport math",
      "metadata": {
        "trusted": true
      },
      "outputs": [],
      "execution_count": 1
    },
    {
      "cell_type": "code",
      "source": "#y1-- displacement of follower is rising period\n#y2-- displacement of follower is return period\n#theta-- variable theta, rotation of cam\n#theta_ri-- theta at end of rise - start\n#theta2 -- theta when return starts\n#theta_re -- time taken for return,,,, theta_re=(theta at end of return - theta2) \n#L -- lift (given)\ny1, y2, theta, theta_ri, theta2, theta_re, L = sp.symbols('y1 y2 theta theta_ri theta2 theta_re L ')\n\n#3-4-5 for rise\ny1=10*L*(theta/theta_ri)**3-15*L*(theta/theta_ri)**4+6*L*(theta/theta_ri)**5;\n\n#3-4-5 for return\ny2=L-y1.subs({(theta, theta-theta2), (theta_ri, theta_re)})\n",
      "metadata": {
        "trusted": true
      },
      "outputs": [],
      "execution_count": 3
    },
    {
      "cell_type": "code",
      "source": "theta_ri_num=np.pi/2-0.4  #change vaules acc. to question\ntheta2_num=np.pi/2 +0.5\ntheta_re_num= np.pi\n\nsubst={\n    (L, 50),\n    (theta_ri, theta_ri_num),\n    (theta2, theta2_num),\n    (theta_re, theta_re_num-theta2_num)};\ny1s=y1.subs(subst)\ny2s=y2.subs(subst)",
      "metadata": {
        "trusted": true
      },
      "outputs": [],
      "execution_count": 4
    },
    {
      "cell_type": "code",
      "source": "v1=sp.diff(y1s,theta);\na1=sp.diff(v1,theta);\n\nv2=sp.diff(y2s,theta);\na2=sp.diff(v2,theta);",
      "metadata": {
        "trusted": true
      },
      "outputs": [],
      "execution_count": 5
    },
    {
      "cell_type": "code",
      "source": "def give_y(theta_in):\n    if (theta_in <= theta_ri_num):\n        return(y1s.subs(theta,theta_in));\n    elif (theta_in <= theta2_num):\n        return(L);\n    elif(theta_in <= theta_re_num):\n        return(y2s.subs(theta,theta_in));\n    else: return(0);\n\ndef give_v(theta_in):\n    if (theta_in <= theta_ri_num):\n        return(v1.subs(theta,theta_in));\n    elif (theta_in <= theta2_num):\n        return(0);\n    elif(theta_in <= theta_re_num):\n        return(v2.subs(theta,theta_in));\n    else: return(0);\n\ndef give_a(theta_in):\n    if (theta_in <= theta_ri_num):\n        return(a1.subs(theta,theta_in));\n    elif (theta_in <= theta2_num):\n        return(0);\n    elif(theta_in <= theta_re_num):\n        return(a2.subs(theta,theta_in));\n    else: return(0);\n",
      "metadata": {
        "trusted": true
      },
      "outputs": [],
      "execution_count": 6
    },
    {
      "cell_type": "code",
      "source": "#answers Q1-Q6\nprint(\"Q1:\",give_y(0.5));\nprint(\"Q2:\",give_y(2.5));\nprint(\"Q3:\",give_v(0.5));\nprint(\"Q4:\",give_v(2.5));\nprint(\"Q5:\",give_a(0.5));\nprint(\"Q6:\",give_a(2.5));",
      "metadata": {
        "trusted": true
      },
      "outputs": [
        {
          "name": "stdout",
          "text": "Q1: 18.2582488477680\nQ2: 34.0565308918277\nQ3: 76.7018542728897\nQ4: -80.7983553070204\nQ5: 78.1184657391400\nQ6: -124.635478005280\n",
          "output_type": "stream"
        }
      ],
      "execution_count": 7
    },
    {
      "cell_type": "code",
      "source": "sp.solve(a1)",
      "metadata": {
        "trusted": true
      },
      "outputs": [
        {
          "execution_count": 8,
          "output_type": "execute_result",
          "data": {
            "text/plain": "[0.0, 0.585398163397447, 1.17079632679490]"
          },
          "metadata": {}
        }
      ],
      "execution_count": 8
    },
    {
      "cell_type": "code",
      "source": "sp.solve(a2)",
      "metadata": {
        "trusted": true
      },
      "outputs": [
        {
          "execution_count": 9,
          "output_type": "execute_result",
          "data": {
            "text/plain": "[2.0707963267949 + 0.e-21*I,\n 2.60619449019234 - 0.e-23*I,\n 3.1415926535898 + 0.e-23*I]"
          },
          "metadata": {}
        }
      ],
      "execution_count": 9
    },
    {
      "cell_type": "code",
      "source": "foll_width= abs(give_v(0.585398163397447)) + abs(give_v(2.60619449019234));\nprint(\"Q7:\", math.ceil(foll_width))",
      "metadata": {
        "trusted": true
      },
      "outputs": [
        {
          "name": "stdout",
          "text": "Q7: 168\n",
          "output_type": "stream"
        }
      ],
      "execution_count": 10
    },
    {
      "cell_type": "code",
      "source": "rho=50\np1= y1s+a1\nsp.solve(sp.diff(p1,theta))",
      "metadata": {
        "trusted": true
      },
      "outputs": [
        {
          "execution_count": 11,
          "output_type": "execute_result",
          "data": {
            "text/plain": "[0.254177890636323,\n 0.916618436158572,\n 0.585398163397446 - 3.37998888306896*I,\n 0.585398163397446 + 3.37998888306896*I]"
          },
          "metadata": {}
        }
      ],
      "execution_count": 11
    },
    {
      "cell_type": "code",
      "source": "ans8=rho-p1.subs(theta, 0.916618436158572 );\nprint(\"Q8:\", ans8);",
      "metadata": {
        "trusted": true
      },
      "outputs": [
        {
          "name": "stdout",
          "text": "Q8: 214.063554250717\n",
          "output_type": "stream"
        }
      ],
      "execution_count": 12
    },
    {
      "cell_type": "code",
      "source": "ans9=((give_v(1))**2 + (260+give_y(1))**2)**(1/2);\nprint(\"Q9:\", ans9);",
      "metadata": {
        "trusted": true
      },
      "outputs": [
        {
          "name": "stdout",
          "text": "Q9: 309.407582269899\n",
          "output_type": "stream"
        }
      ],
      "execution_count": 13
    },
    {
      "cell_type": "code",
      "source": "",
      "metadata": {
        "trusted": true
      },
      "outputs": [],
      "execution_count": null
    }
  ]
}