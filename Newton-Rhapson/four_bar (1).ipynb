{
 "cells": [
  {
   "cell_type": "markdown",
   "id": "56bdd8d5",
   "metadata": {},
   "source": [
    "In this notebook, we perform the computations for position analysis of a 4R linkage. \n",
    "\n",
    "**Objective**: Find $\\theta_2$ and $\\theta_3$ such that \n",
    "\n",
    "$f(\\theta_2, \\theta_3) = l_1+l_4 \\cos \\theta_3 - l_2 \\cos\\theta_1 - l_3 \\cos \\theta_2 = 0 $ and \n",
    "\n",
    "$g(\\theta_2, \\theta_3) = l_2 \\sin \\theta_1 + l_3 \\sin \\theta_2 - l_4 \\sin \\theta_3 = 0$\n",
    "\n",
    "where $l_1, l_2, l_3, l_4, \\theta_1, \\theta_2, \\theta_3, \\theta_4 $ are given. \n",
    "\n",
    "We shall solve this using Newton-Raphson Method \n",
    "\n",
    "For the purpose of demonstration the following numerical values are chosen \n",
    "\n",
    "$l_1 = 40, l_2 = 20, l_3 = 40, l_4 = 30$\n",
    "\n",
    "These parameters correspond to a Grashoff crank-rocker configuration \n",
    "\n",
    "The geogebra analysis of this linkage is posted [here](https://www.geogebra.org/calculator/y7s59tjj) \n"
   ]
  },
  {
   "cell_type": "code",
   "execution_count": 1,
   "id": "de345e9d",
   "metadata": {},
   "outputs": [
    {
     "name": "stdout",
     "output_type": "stream",
     "text": [
      "Equation 1 Residue = 6.71572875253810\n",
      "Equation 2 Residue = 2.30350913392874\n"
     ]
    }
   ],
   "source": [
    "theta_2, theta3 = var('theta_2, theta_3')\n",
    "# these are the symbolic variables \n",
    "\n",
    "# the following are numerical variables \n",
    "l1 = 40\n",
    "l2 = 20\n",
    "l3 = 40\n",
    "l4 = 30\n",
    "\n",
    "\n",
    "theta1 = 0 \n",
    "# the solution is done for a known theta1 \n",
    "\n",
    "f = l1+l4*cos(theta_3)-l2*cos(theta1)-l3*cos(theta_2) \n",
    "g = l2*sin(theta1)+l3*sin(theta_2)-l4*sin(theta_3) \n",
    "# the functions f and g are defined \n",
    "\n",
    "#initial guess \n",
    "theta2_num = pi.n()/4\n",
    "theta3_num = pi.n()/3 \n",
    "\n",
    "print('Equation 1 Residue =', f.subs(theta_2=theta2_num, theta_3=theta3_num).n())\n",
    "print('Equation 2 Residue =', g.subs(theta_2=theta2_num, theta_3=theta3_num).n())"
   ]
  },
  {
   "cell_type": "markdown",
   "id": "687bd952",
   "metadata": {},
   "source": [
    "Thus, the above guesses are not accurate. We will improve the accuracy of the guess using the Newton-Raphson Method. "
   ]
  },
  {
   "cell_type": "code",
   "execution_count": 2,
   "id": "19d14464",
   "metadata": {},
   "outputs": [],
   "source": [
    "f_theta2 = diff(f, theta_2)\n",
    "f_theta3 = diff(f, theta_3)\n",
    "g_theta2 = diff(g, theta_2)\n",
    "g_theta3 = diff(g, theta_3)\n",
    "# constructing the 4 partial derivatives used for framing the Jacobian\n",
    "\n",
    "J = matrix([[f_theta2, f_theta3], [g_theta2, g_theta3]])\n",
    "\n",
    "# Jacobian matrix is formulated"
   ]
  },
  {
   "cell_type": "markdown",
   "id": "16238796",
   "metadata": {},
   "source": [
    "\n",
    "The Jacobian for this case is defined as \n",
    "\n",
    "$J = \\left[ \\begin{array}{cc}   f_{\\theta_2} & f_{\\theta_3} \\\\ g_{\\theta_2} & g_{\\theta_3} \\end{array} \\right]$"
   ]
  },
  {
   "cell_type": "code",
   "execution_count": null,
   "id": "4541a275",
   "metadata": {},
   "outputs": [],
   "source": [
    "#initial guess\n",
    "initial_vector = vector([theta2_num, theta3_num])\n",
    "max_iter = 5 \n",
    "# maximum number of iterations\n",
    "\n",
    "for count in range(max_iter):\n",
    "    print('theta2=', initial_vector[0], 'theta3=', initial_vector[1])\n",
    "    initial_func = vector([f.subs(theta_2=theta2_num, theta_3=theta3_num).n(), g.subs(theta_2=theta2_num, theta_3=theta3_num).n()])\n",
    "    Jnum = J.subs(theta_2=theta2_num, theta_3=theta3_num).n()\n",
    "    new_vector = initial_vector-Jnum.inverse()*initial_func\n",
    "    theta2_num = new_vector[0].n()\n",
    "    theta3_num = new_vector[1].n()\n",
    "    initial_vector = vector([theta2_num, theta3_num])\n",
    "    \n",
    "\n",
    "pretty_print(LatexExpr(r\"\\theta_2 =\"), theta2_num*180/pi.n())\n",
    "pretty_print(LatexExpr(r\"\\theta_3 =\"), theta3_num*180/pi.n())  "
   ]
  },
  {
   "cell_type": "markdown",
   "id": "8fa8e927",
   "metadata": {},
   "source": [
    "The values  converge in 5 iterations. \n",
    "\n",
    "These values match from geogebra construction. \n",
    "\n",
    "Now we automate this procedure through a function call"
   ]
  },
  {
   "cell_type": "code",
   "execution_count": 3,
   "id": "b3c04973",
   "metadata": {},
   "outputs": [
    {
     "name": "stdout",
     "output_type": "stream",
     "text": [
      "theta2= 0.785398163397448 theta3= 1.04719755119660\n",
      "theta2= 0.917050660984844 theta3= 1.44901115693636\n",
      "theta2= 0.816361116776291 theta3= 1.31874060301056\n",
      "theta2= 0.812744041756295 theta3= 1.31809842779753\n",
      "theta2= 0.812755561489876 theta3= 1.31811607175141\n"
     ]
    },
    {
     "data": {
      "text/html": [
       "<html>\\(\\displaystyle \\theta_2 = 46.5674634422102\\)</html>"
      ],
      "text/latex": [
       "$\\displaystyle \\theta_2 = 46.5674634422102$"
      ],
      "text/plain": [
       "\\theta_2 = 46.5674634422102"
      ]
     },
     "metadata": {},
     "output_type": "display_data"
    },
    {
     "data": {
      "text/html": [
       "<html>\\(\\displaystyle \\theta_3 = 75.5224878140701\\)</html>"
      ],
      "text/latex": [
       "$\\displaystyle \\theta_3 = 75.5224878140701$"
      ],
      "text/plain": [
       "\\theta_3 = 75.5224878140701"
      ]
     },
     "metadata": {},
     "output_type": "display_data"
    }
   ],
   "source": [
    "def numsol(theta2_guess, theta3_guess):\n",
    "    theta2_num = theta2_guess \n",
    "    theta3_num = theta3_guess\n",
    "    initial_vector = vector([theta2_num, theta3_num])\n",
    "    max_iter = 5\n",
    "    \n",
    "    for count in range(max_iter):\n",
    "        print('theta2=', initial_vector[0], 'theta3=', initial_vector[1])\n",
    "        initial_func = vector([f.subs(theta_2=theta2_num, theta_3=theta3_num).n(), g.subs(theta_2=theta2_num, theta_3=theta3_num).n()])\n",
    "        Jnum = J.subs(theta_2=theta2_num, theta_3=theta3_num).n()\n",
    "        new_vector = initial_vector-Jnum.inverse()*initial_func\n",
    "        theta2_num = new_vector[0].n()\n",
    "        theta3_num = new_vector[1].n()\n",
    "        initial_vector = vector([theta2_num, theta3_num])\n",
    "            \n",
    "    return initial_vector\n",
    "\n",
    "answer = numsol(pi.n()/4, pi.n()/3)\n",
    "    \n",
    "pretty_print(LatexExpr(r\"\\theta_2 =\"), answer[0]*180/pi.n())\n",
    "pretty_print(LatexExpr(r\"\\theta_3 =\"), answer[1]*180/pi.n())  \n",
    "    "
   ]
  },
  {
   "cell_type": "markdown",
   "id": "1ed97c8e",
   "metadata": {},
   "source": [
    "This is accurately done as verified from Geogebra construction\n"
   ]
  },
  {
   "cell_type": "code",
   "execution_count": null,
   "id": "6db2e4c8",
   "metadata": {},
   "outputs": [],
   "source": []
  }
 ],
 "metadata": {
  "kernelspec": {
   "display_name": "SageMath 10.2",
   "language": "sage",
   "name": "sagemath"
  },
  "language_info": {
   "codemirror_mode": {
    "name": "ipython",
    "version": 3
   },
   "file_extension": ".py",
   "mimetype": "text/x-python",
   "name": "python",
   "nbconvert_exporter": "python",
   "pygments_lexer": "ipython3",
   "version": "3.9.18"
  },
  "varInspector": {
   "cols": {
    "lenName": 16,
    "lenType": 16,
    "lenVar": 40
   },
   "kernels_config": {
    "python": {
     "delete_cmd_postfix": "",
     "delete_cmd_prefix": "del ",
     "library": "var_list.py",
     "varRefreshCmd": "print(var_dic_list())"
    },
    "r": {
     "delete_cmd_postfix": ") ",
     "delete_cmd_prefix": "rm(",
     "library": "var_list.r",
     "varRefreshCmd": "cat(var_dic_list()) "
    }
   },
   "types_to_exclude": [
    "module",
    "function",
    "builtin_function_or_method",
    "instance",
    "_Feature"
   ],
   "window_display": false
  }
 },
 "nbformat": 4,
 "nbformat_minor": 5
}
