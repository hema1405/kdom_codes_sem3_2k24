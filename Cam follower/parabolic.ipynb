{
 "cells": [
  {
   "cell_type": "code",
   "execution_count": 2,
   "id": "7aebd7d5",
   "metadata": {},
   "outputs": [],
   "source": [
    "import numpy as np\n",
    "import matplotlib.pyplot as plt "
   ]
  },
  {
   "cell_type": "code",
   "execution_count": 6,
   "id": "d83fbf63",
   "metadata": {},
   "outputs": [],
   "source": [
    "var('theta, theta_ri, L, theta_d, theta_re')\n",
    "theta_ri_val = 45/180*np.pi\n",
    "theta_d_val = (67.5-45)/180*np.pi\n",
    "theta_re_val = 45/180*np.pi\n",
    "L_val = 20"
   ]
  },
  {
   "cell_type": "code",
   "execution_count": 121,
   "id": "d3ee18c5",
   "metadata": {},
   "outputs": [],
   "source": [
    "y1(theta) = 2*L*(theta/theta_ri)**2\n",
    "y2(theta) = L*(1-2*(1-theta/theta_ri)**2)\n",
    "y3(theta) = L\n",
    "y4(theta) = L - 2*L*((theta-theta_ri-theta_d)/theta_re)**2\n",
    "y5(theta) = L - L*(1-2*(1-(theta-theta_ri-theta_d)/theta_re)**2)"
   ]
  },
  {
   "cell_type": "code",
   "execution_count": 122,
   "id": "2b4423a7",
   "metadata": {},
   "outputs": [],
   "source": [
    "y1(theta) = y1(theta).subs(L = L_val, theta_ri = theta_ri_val)\n",
    "y2(theta) = y2(theta).subs(L = L_val, theta_ri = theta_ri_val)\n",
    "y3(theta) = y3(theta).subs(L = L_val)\n",
    "y4(theta) = y4(theta).subs(L = L_val, theta_ri = theta_ri_val, theta_re = theta_re_val, theta_d = theta_d_val)\n",
    "y5(theta) = y5(theta).subs(L = L_val, theta_ri = theta_ri_val, theta_re = theta_re_val, theta_d = theta_d_val)"
   ]
  },
  {
   "cell_type": "code",
   "execution_count": 123,
   "id": "a84d438a",
   "metadata": {},
   "outputs": [],
   "source": [
    "v1(theta) = y1(theta).diff(theta)\n",
    "v2(theta) = y2(theta).diff(theta)\n",
    "v3(theta) = y3(theta).diff(theta)\n",
    "v4(theta) = y4(theta).diff(theta)\n",
    "v5(theta) = y5(theta).diff(theta)"
   ]
  },
  {
   "cell_type": "code",
   "execution_count": 124,
   "id": "2641e80f",
   "metadata": {},
   "outputs": [],
   "source": [
    "a1(theta) = v1(theta).diff(theta)\n",
    "a2(theta) = v2(theta).diff(theta)\n",
    "a3(theta) = v3(theta).diff(theta)\n",
    "a4(theta) = v4(theta).diff(theta)\n",
    "a5(theta) = v5(theta).diff(theta)"
   ]
  },
  {
   "cell_type": "code",
   "execution_count": 136,
   "id": "326500bb",
   "metadata": {},
   "outputs": [],
   "source": [
    "theta_range = np.linspace(0,2*np.pi,100)\n",
    "y_val = []\n",
    "v_val = []\n",
    "a_val = []\n",
    "for theta_val in theta_range:\n",
    "    if theta_val<theta_ri_val/2 :\n",
    "        y_val.append(y1(theta_val))\n",
    "        v_val.append(v1(theta_val))\n",
    "        a_val.append(a1(theta_val))\n",
    "        \n",
    "    elif theta_val<theta_ri_val:\n",
    "        y_val.append(y2(theta_val))\n",
    "        v_val.append(v2(theta_val))\n",
    "        a_val.append(a2(theta_val))\n",
    "    elif theta_val<=theta_ri_val+theta_d_val:\n",
    "        y_val.append(y3(theta_val))\n",
    "        v_val.append(v3(theta_val))\n",
    "        a_val.append(a3(theta_val))\n",
    "    \n",
    "    elif theta_val<theta_ri_val+theta_d_val+theta_re_val/2:\n",
    "        y_val.append(y4(theta_val))\n",
    "        v_val.append(v4(theta_val))\n",
    "        a_val.append(a4(theta_val))\n",
    "    \n",
    "    elif theta_val<theta_ri_val+theta_d_val+theta_re_val:\n",
    "        y_val.append(y5(theta_val))\n",
    "        v_val.append(v5(theta_val))\n",
    "        a_val.append(a5(theta_val))\n",
    "    else :\n",
    "        y_val.append(0)\n",
    "        v_val.append(0)\n",
    "        a_val.append(0)\n",
    "        "
   ]
  },
  {
   "cell_type": "code",
   "execution_count": 137,
   "id": "382ac003",
   "metadata": {},
   "outputs": [
    {
     "data": {
      "image/png": "[encoded data removed]",
      "text/plain": [
       "<Figure size 432x288 with 1 Axes>"
      ]
     },
     "metadata": {
      "needs_background": "light"
     },
     "output_type": "display_data"
    }
   ],
   "source": [
    "plt.plot(theta_range,y_val)\n",
    "plt.grid()\n"
   ]
  },
  {
   "cell_type": "code",
   "execution_count": 138,
   "id": "100d4b35",
   "metadata": {},
   "outputs": [
    {
     "data": {
      "image/png": "[encoded data removed]",
      "text/plain": [
       "<Figure size 432x288 with 1 Axes>"
      ]
     },
     "metadata": {
      "needs_background": "light"
     },
     "output_type": "display_data"
    }
   ],
   "source": [
    "plt.plot(theta_range,v_val)\n",
    "plt.grid()"
   ]
  },
  {
   "cell_type": "code",
   "execution_count": 139,
   "id": "f48cd7d4",
   "metadata": {},
   "outputs": [
    {
     "data": {
      "image/png": "[encoded data removed]",
      "text/plain": [
       "<Figure size 432x288 with 1 Axes>"
      ]
     },
     "metadata": {
      "needs_background": "light"
     },
     "output_type": "display_data"
    }
   ],
   "source": [
    "plt.plot(theta_range,a_val)\n",
    "plt.grid()"
   ]
  },
  {
   "cell_type": "code",
   "execution_count": null,
   "id": "208a883c",
   "metadata": {},
   "outputs": [],
   "source": []
  }
 ],
 "metadata": {
  "kernelspec": {
   "display_name": "SageMath 9.5",
   "language": "sage",
   "name": "sagemath"
  },
  "language_info": {
   "codemirror_mode": {
    "name": "ipython",
    "version": 3
   },
   "file_extension": ".py",
   "mimetype": "text/x-python",
   "name": "python",
   "nbconvert_exporter": "python",
   "pygments_lexer": "ipython3",
   "version": "3.10.12"
  }
 },
 "nbformat": 4,
 "nbformat_minor": 5
}
