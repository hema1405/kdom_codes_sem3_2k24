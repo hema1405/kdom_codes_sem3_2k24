{
 "cells": [
  {
   "cell_type": "code",
   "execution_count": 106,
   "id": "01e5a1e9",
   "metadata": {},
   "outputs": [],
   "source": [
    "import numpy as np\n",
    "import matplotlib.pyplot as plt "
   ]
  },
  {
   "cell_type": "code",
   "execution_count": 107,
   "id": "404d1676",
   "metadata": {},
   "outputs": [],
   "source": [
    "var('theta, theta_i, L, theta_d, theta_r')\n",
    "theta_i_val = 45/180*np.pi\n",
    "theta_d_val = (67.5-45)/180*np.pi\n",
    "theta_r_val = 45/180*np.pi\n",
    "L_val = 20"
   ]
  },
  {
   "cell_type": "code",
   "execution_count": 108,
   "id": "56cfdda7",
   "metadata": {},
   "outputs": [
    {
     "data": {
      "text/html": [
       "<html><script type=\"math/tex; mode=display\">\\newcommand{\\Bold}[1]{\\mathbf{#1}}\\theta \\ {\\mapsto}\\ L {\\left(\\frac{\\theta}{\\theta_{i}} - 0.15915494309189535 \\, \\sin\\left(\\frac{6.283185307179586 \\, \\theta}{\\theta_{i}}\\right)\\right)}</script></html>"
      ],
      "text/latex": [
       "$$\\newcommand{\\Bold}[1]{\\mathbf{#1}}\\theta \\ {\\mapsto}\\ L {\\left(\\frac{\\theta}{\\theta_{i}} - 0.15915494309189535 \\, \\sin\\left(\\frac{6.283185307179586 \\, \\theta}{\\theta_{i}}\\right)\\right)}$$"
      ],
      "text/plain": [
       "theta |--> L*(theta/theta_i - 0.15915494309189535*sin(6.283185307179586*theta/theta_i))"
      ]
     },
     "metadata": {},
     "output_type": "display_data"
    }
   ],
   "source": [
    "y1(theta) = L*((theta/theta_i) - 1/(2*np.pi)*sin(2*np.pi*theta/theta_i))\n",
    "pretty_print(y1) # rise "
   ]
  },
  {
   "cell_type": "code",
   "execution_count": 109,
   "id": "cb8b5be8",
   "metadata": {},
   "outputs": [],
   "source": [
    "y2(theta) = L # dwell 1"
   ]
  },
  {
   "cell_type": "code",
   "execution_count": 110,
   "id": "e218237d",
   "metadata": {},
   "outputs": [
    {
     "data": {
      "text/html": [
       "<html><script type=\"math/tex; mode=display\">\\newcommand{\\Bold}[1]{\\mathbf{#1}}\\theta \\ {\\mapsto}\\ -L {\\left(\\frac{\\theta - \\theta_{d} - \\theta_{i}}{\\theta_{r}} - 0.15915494309189535 \\, \\sin\\left(\\frac{6.283185307179586 \\, {\\left(\\theta - \\theta_{d} - \\theta_{i}\\right)}}{\\theta_{r}}\\right) - 1\\right)}</script></html>"
      ],
      "text/latex": [
       "$$\\newcommand{\\Bold}[1]{\\mathbf{#1}}\\theta \\ {\\mapsto}\\ -L {\\left(\\frac{\\theta - \\theta_{d} - \\theta_{i}}{\\theta_{r}} - 0.15915494309189535 \\, \\sin\\left(\\frac{6.283185307179586 \\, {\\left(\\theta - \\theta_{d} - \\theta_{i}\\right)}}{\\theta_{r}}\\right) - 1\\right)}$$"
      ],
      "text/plain": [
       "theta |--> -L*((theta - theta_d - theta_i)/theta_r - 0.15915494309189535*sin(6.283185307179586*(theta - theta_d - theta_i)/theta_r) - 1)"
      ]
     },
     "metadata": {},
     "output_type": "display_data"
    }
   ],
   "source": [
    "y3(theta) = L*(1-(theta-theta_i-theta_d)/theta_r + 1/(2*np.pi)*sin(2*np.pi*((theta-theta_i-theta_d)/theta_r)))\n",
    "pretty_print(y3)"
   ]
  },
  {
   "cell_type": "code",
   "execution_count": 111,
   "id": "a82a6ed7",
   "metadata": {},
   "outputs": [],
   "source": [
    "y4(theta) = 0"
   ]
  },
  {
   "cell_type": "code",
   "execution_count": 112,
   "id": "c6e6cde9",
   "metadata": {},
   "outputs": [],
   "source": [
    "theta_range = np.linspace(0,2*np.pi,100)\n",
    "y_val = []\n",
    "\n",
    "for theta_val in theta_range:\n",
    "    if (theta_val < theta_i_val):\n",
    "        y_val.append(y1(theta).subs(L = L_val, theta_i = theta_i_val, theta = theta_val))\n",
    "    \n",
    "    elif (theta_val < theta_i_val + theta_d_val) :\n",
    "        y_val.append(y2(theta).subs(L = L_val))\n",
    "    elif (theta_val < theta_i_val + theta_d_val + theta_r_val) :\n",
    "        y_val.append(y3(theta).subs(L = L_val, theta = theta_val, theta_i = theta_i_val, theta_d = theta_d_val, theta_r = theta_r_val))\n",
    "    else:\n",
    "        y_val.append(y4(theta))"
   ]
  },
  {
   "cell_type": "code",
   "execution_count": 113,
   "id": "8e226c74",
   "metadata": {},
   "outputs": [
    {
     "data": {
      "image/png": "[encoded data removed]",
      "text/plain": [
       "<Figure size 432x288 with 1 Axes>"
      ]
     },
     "metadata": {
      "needs_background": "light"
     },
     "output_type": "display_data"
    }
   ],
   "source": [
    "plt.plot(theta_range,y_val)\n",
    "plt.grid()\n",
    "plt.xlabel(r'$\\theta_1$')\n",
    "plt.ylabel(r'$\\theta_2$')\n",
    "plt.title('Phi(theta)');"
   ]
  },
  {
   "cell_type": "code",
   "execution_count": 114,
   "id": "e7f98ec2",
   "metadata": {},
   "outputs": [
    {
     "data": {
      "text/html": [
       "<html><script type=\"math/tex; mode=display\">\\newcommand{\\Bold}[1]{\\mathbf{#1}}\\theta \\ {\\mapsto}\\ L {\\left(-\\frac{1.0 \\, \\cos\\left(\\frac{6.283185307179586 \\, \\theta}{\\theta_{i}}\\right)}{\\theta_{i}} + \\frac{1}{\\theta_{i}}\\right)}</script></html>"
      ],
      "text/latex": [
       "$$\\newcommand{\\Bold}[1]{\\mathbf{#1}}\\theta \\ {\\mapsto}\\ L {\\left(-\\frac{1.0 \\, \\cos\\left(\\frac{6.283185307179586 \\, \\theta}{\\theta_{i}}\\right)}{\\theta_{i}} + \\frac{1}{\\theta_{i}}\\right)}$$"
      ],
      "text/plain": [
       "theta |--> L*(-1.0*cos(6.283185307179586*theta/theta_i)/theta_i + 1/theta_i)"
      ]
     },
     "metadata": {},
     "output_type": "display_data"
    },
    {
     "data": {
      "text/html": [
       "<html><script type=\"math/tex; mode=display\">\\newcommand{\\Bold}[1]{\\mathbf{#1}}\\theta \\ {\\mapsto}\\ -L {\\left(-\\frac{1.0 \\, \\cos\\left(\\frac{6.283185307179586 \\, {\\left(\\theta - \\theta_{d} - \\theta_{i}\\right)}}{\\theta_{r}}\\right)}{\\theta_{r}} + \\frac{1}{\\theta_{r}}\\right)}</script></html>"
      ],
      "text/latex": [
       "$$\\newcommand{\\Bold}[1]{\\mathbf{#1}}\\theta \\ {\\mapsto}\\ -L {\\left(-\\frac{1.0 \\, \\cos\\left(\\frac{6.283185307179586 \\, {\\left(\\theta - \\theta_{d} - \\theta_{i}\\right)}}{\\theta_{r}}\\right)}{\\theta_{r}} + \\frac{1}{\\theta_{r}}\\right)}$$"
      ],
      "text/plain": [
       "theta |--> -L*(-1.0*cos(6.283185307179586*(theta - theta_d - theta_i)/theta_r)/theta_r + 1/theta_r)"
      ]
     },
     "metadata": {},
     "output_type": "display_data"
    }
   ],
   "source": [
    "v1(theta) = y1(theta).diff(theta)\n",
    "v2(theta) = y2(theta).diff(theta)\n",
    "v3(theta) = y3(theta).diff(theta)\n",
    "v4(theta) = y4(theta).diff(theta)\n",
    "\n",
    "pretty_print(v1)\n",
    "pretty_print(v3)"
   ]
  },
  {
   "cell_type": "code",
   "execution_count": 115,
   "id": "8cecee83",
   "metadata": {},
   "outputs": [],
   "source": [
    "v_val = []\n",
    "\n",
    "for theta_val in theta_range:\n",
    "    if (theta_val < theta_i_val):\n",
    "        v_val.append(v1(theta).subs(L = L_val, theta_i = theta_i_val, theta = theta_val))\n",
    "    \n",
    "    elif (theta_val < theta_i_val + theta_d_val) :\n",
    "        v_val.append(v2(theta).subs(L = L_val))\n",
    "    elif (theta_val < theta_i_val + theta_d_val + theta_r_val) :\n",
    "        v_val.append(v3(theta).subs(L = L_val, theta = theta_val, theta_i = theta_i_val, theta_d = theta_d_val, theta_r = theta_r_val))\n",
    "    else:\n",
    "        v_val.append(v4(theta))"
   ]
  },
  {
   "cell_type": "code",
   "execution_count": 116,
   "id": "e40909bf",
   "metadata": {},
   "outputs": [
    {
     "data": {
      "image/png": "[encoded data removed]",
      "text/plain": [
       "<Figure size 432x288 with 1 Axes>"
      ]
     },
     "metadata": {
      "needs_background": "light"
     },
     "output_type": "display_data"
    }
   ],
   "source": [
    "plt.plot(theta_range,v_val)\n",
    "plt.grid()\n",
    "plt.xlabel(r'$\\theta$')\n",
    "plt.ylabel('velocity')\n",
    "plt.title('Velocity');"
   ]
  },
  {
   "cell_type": "code",
   "execution_count": 117,
   "id": "e26169a3",
   "metadata": {},
   "outputs": [
    {
     "data": {
      "text/plain": [
       "(50.92958178940651, 0.3926990816987242)"
      ]
     },
     "execution_count": 117,
     "metadata": {},
     "output_type": "execute_result"
    }
   ],
   "source": [
    "find_local_maximum(v1(theta).subs(L = L_val, theta_i = theta_i_val),0,theta_i_val)"
   ]
  },
  {
   "cell_type": "code",
   "execution_count": 118,
   "id": "7e55f253",
   "metadata": {},
   "outputs": [
    {
     "data": {
      "text/plain": [
       "0.39269908169872886"
      ]
     },
     "execution_count": 118,
     "metadata": {},
     "output_type": "execute_result"
    }
   ],
   "source": [
    "find_root(v1(theta).subs(L = L_val, theta_i = theta_i_val).diff(theta),0.1,theta_i_val)"
   ]
  },
  {
   "cell_type": "code",
   "execution_count": 119,
   "id": "05454924",
   "metadata": {},
   "outputs": [
    {
     "data": {
      "text/html": [
       "<html><script type=\"math/tex; mode=display\">\\newcommand{\\Bold}[1]{\\mathbf{#1}}\\theta \\ {\\mapsto}\\ \\frac{6.283185307179586 \\, L \\sin\\left(\\frac{6.283185307179586 \\, \\theta}{\\theta_{i}}\\right)}{\\theta_{i}^{2}}</script></html>"
      ],
      "text/latex": [
       "$$\\newcommand{\\Bold}[1]{\\mathbf{#1}}\\theta \\ {\\mapsto}\\ \\frac{6.283185307179586 \\, L \\sin\\left(\\frac{6.283185307179586 \\, \\theta}{\\theta_{i}}\\right)}{\\theta_{i}^{2}}$$"
      ],
      "text/plain": [
       "theta |--> 6.283185307179586*L*sin(6.283185307179586*theta/theta_i)/theta_i^2"
      ]
     },
     "metadata": {},
     "output_type": "display_data"
    },
    {
     "data": {
      "text/html": [
       "<html><script type=\"math/tex; mode=display\">\\newcommand{\\Bold}[1]{\\mathbf{#1}}\\theta \\ {\\mapsto}\\ -\\frac{6.283185307179586 \\, L \\sin\\left(\\frac{6.283185307179586 \\, {\\left(\\theta - \\theta_{d} - \\theta_{i}\\right)}}{\\theta_{r}}\\right)}{\\theta_{r}^{2}}</script></html>"
      ],
      "text/latex": [
       "$$\\newcommand{\\Bold}[1]{\\mathbf{#1}}\\theta \\ {\\mapsto}\\ -\\frac{6.283185307179586 \\, L \\sin\\left(\\frac{6.283185307179586 \\, {\\left(\\theta - \\theta_{d} - \\theta_{i}\\right)}}{\\theta_{r}}\\right)}{\\theta_{r}^{2}}$$"
      ],
      "text/plain": [
       "theta |--> -6.283185307179586*L*sin(6.283185307179586*(theta - theta_d - theta_i)/theta_r)/theta_r^2"
      ]
     },
     "metadata": {},
     "output_type": "display_data"
    }
   ],
   "source": [
    "a1(theta) = v1(theta).diff(theta)\n",
    "a2(theta) = v2(theta).diff(theta)\n",
    "a3(theta) = v3(theta).diff(theta)\n",
    "a4(theta) = v4(theta).diff(theta)\n",
    "\n",
    "pretty_print(a1)\n",
    "pretty_print(a3)"
   ]
  },
  {
   "cell_type": "code",
   "execution_count": 120,
   "id": "2f1b3d54",
   "metadata": {},
   "outputs": [],
   "source": [
    "a_val = []\n",
    "\n",
    "for theta_val in theta_range:\n",
    "    if (theta_val < theta_i_val):\n",
    "        a_val.append(a1(theta).subs(L = L_val, theta_i = theta_i_val, theta = theta_val))\n",
    "    \n",
    "    elif (theta_val < theta_i_val + theta_d_val) :\n",
    "        a_val.append(a2(theta).subs(L = L_val))\n",
    "    elif (theta_val < theta_i_val + theta_d_val + theta_r_val) :\n",
    "        a_val.append(a3(theta).subs(L = L_val, theta = theta_val, theta_i = theta_i_val, theta_d = theta_d_val, theta_r = theta_r_val))\n",
    "    else:\n",
    "        a_val.append(a4(theta))"
   ]
  },
  {
   "cell_type": "code",
   "execution_count": 121,
   "id": "dc7d69b3",
   "metadata": {},
   "outputs": [
    {
     "data": {
      "image/png": "[encoded data removed]",
      "text/plain": [
       "<Figure size 432x288 with 1 Axes>"
      ]
     },
     "metadata": {
      "needs_background": "light"
     },
     "output_type": "display_data"
    }
   ],
   "source": [
    "plt.plot(theta_range,a_val)\n",
    "plt.grid()\n",
    "plt.xlabel(r'$\\theta$')\n",
    "plt.ylabel('acceleration')\n",
    "plt.title('Acceleration');"
   ]
  },
  {
   "cell_type": "code",
   "execution_count": 122,
   "id": "48a3fb4c",
   "metadata": {},
   "outputs": [
    {
     "data": {
      "text/plain": [
       "(203.71832715762605, 0.19634954070591074)"
      ]
     },
     "execution_count": 122,
     "metadata": {},
     "output_type": "execute_result"
    }
   ],
   "source": [
    "find_local_maximum(a1(theta).subs(L = L_val, theta_i = theta_i_val),0,theta_i_val)"
   ]
  },
  {
   "cell_type": "code",
   "execution_count": 123,
   "id": "4a9822e2",
   "metadata": {},
   "outputs": [
    {
     "data": {
      "text/plain": [
       "0.5890486225480862"
      ]
     },
     "execution_count": 123,
     "metadata": {},
     "output_type": "execute_result"
    }
   ],
   "source": [
    "find_root(a1(theta).subs(L = L_val, theta_i = theta_i_val).diff(theta),0,theta_i_val)"
   ]
  },
  {
   "cell_type": "code",
   "execution_count": 147,
   "id": "54427ac3",
   "metadata": {},
   "outputs": [],
   "source": [
    "Rp = 50  # Pitch circle radius\n",
    "Xp_val = []\n",
    "Yp_val = []\n",
    "for theta_val in theta_range:\n",
    "    if (theta_val < theta_i_val):\n",
    "        Xp_val.append((Rp + y1(theta).subs(L = L_val, theta_i = theta_i_val, theta = theta_val))*sin(theta_val))\n",
    "        Yp_val.append((Rp + y1(theta).subs(L = L_val, theta_i = theta_i_val, theta = theta_val))*cos(theta_val))\n",
    "    \n",
    "    elif (theta_val < theta_i_val + theta_d_val) :\n",
    "        Xp_val.append((Rp + y2(theta).subs(L = L_val))*sin(theta_val))\n",
    "        Yp_val.append((Rp+y2(theta).subs(L = L_val))*cos(theta_val))\n",
    "        \n",
    "    elif (theta_val < theta_i_val + theta_d_val + theta_r_val) :\n",
    "        Xp_val.append((Rp + y3(theta).subs(L = L_val, theta = theta_val, theta_i = theta_i_val, theta_d = theta_d_val, theta_r = theta_r_val))*sin(theta_val))\n",
    "        Yp_val.append((Rp + y3(theta).subs(L = L_val, theta = theta_val, theta_i = theta_i_val, theta_d = theta_d_val, theta_r = theta_r_val))*cos(theta_val))\n",
    "        \n",
    "    else:\n",
    "        Xp_val.append((Rp+y4(theta))*sin(theta_val))\n",
    "        Yp_val.append((Rp + y4(theta))*cos(theta_val))                     "
   ]
  },
  {
   "cell_type": "code",
   "execution_count": 159,
   "id": "af193ae0",
   "metadata": {
    "scrolled": true
   },
   "outputs": [
    {
     "data": {
      "image/png": "[encoded data removed]",
      "text/plain": [
       "<Figure size 432x288 with 1 Axes>"
      ]
     },
     "metadata": {
      "needs_background": "light"
     },
     "output_type": "display_data"
    }
   ],
   "source": [
    "plt.plot(Xp_val,Yp_val)\n",
    "plt.grid()\n",
    "plt.axis('equal')\n",
    "plt.title('Pitch curve without offset');\n"
   ]
  },
  {
   "cell_type": "code",
   "execution_count": 149,
   "id": "5d8df05a",
   "metadata": {},
   "outputs": [],
   "source": [
    "e = 10 #offset\n",
    "d = sqrt(Rp**2 + e**2)"
   ]
  },
  {
   "cell_type": "code",
   "execution_count": 152,
   "id": "1fd78b93",
   "metadata": {},
   "outputs": [],
   "source": [
    "Rp = 50  # Pitch circle radius\n",
    "Xp_val_off = []\n",
    "Yp_val_off = []\n",
    "for theta_val in theta_range:\n",
    "    if (theta_val < theta_i_val):\n",
    "        Xp_val_off.append( e*cos(theta_val) + (Rp + y1(theta).subs(L = L_val, theta_i = theta_i_val, theta = theta_val))*sin(theta_val))\n",
    "        Yp_val_off.append(-e*sin(theta_val) + (Rp + y1(theta).subs(L = L_val, theta_i = theta_i_val, theta = theta_val))*cos(theta_val))\n",
    "    \n",
    "    elif (theta_val < theta_i_val + theta_d_val) :\n",
    "        Xp_val_off.append(e*cos(theta_val) + (Rp + y2(theta).subs(L = L_val))*sin(theta_val))\n",
    "        Yp_val_off.append(-e*sin(theta_val) + (Rp+y2(theta).subs(L = L_val))*cos(theta_val))\n",
    "        \n",
    "    elif (theta_val < theta_i_val + theta_d_val + theta_r_val) :\n",
    "        Xp_val_off.append(e*cos(theta_val) + (Rp + y3(theta).subs(L = L_val, theta = theta_val, theta_i = theta_i_val, theta_d = theta_d_val, theta_r = theta_r_val))*sin(theta_val))\n",
    "        Yp_val_off.append(-e*sin(theta_val) + (Rp + y3(theta).subs(L = L_val, theta = theta_val, theta_i = theta_i_val, theta_d = theta_d_val, theta_r = theta_r_val))*cos(theta_val))\n",
    "        \n",
    "    else:\n",
    "        Xp_val_off.append(e*cos(theta_val) + (Rp+y4(theta))*sin(theta_val))\n",
    "        Yp_val_off.append(-e*sin(theta_val) + (Rp + y4(theta))*cos(theta_val))                     "
   ]
  },
  {
   "cell_type": "code",
   "execution_count": 158,
   "id": "743af275",
   "metadata": {},
   "outputs": [
    {
     "data": {
      "image/png": "[encoded data removed]",
      "text/plain": [
       "<Figure size 432x288 with 1 Axes>"
      ]
     },
     "metadata": {
      "needs_background": "light"
     },
     "output_type": "display_data"
    }
   ],
   "source": [
    "plt.plot(Xp_val_off,Yp_val_off)\n",
    "plt.grid()\n",
    "plt.axis('equal')\n",
    "plt.title('Pitch curve with offset');"
   ]
  },
  {
   "cell_type": "code",
   "execution_count": 160,
   "id": "2aac0de5",
   "metadata": {},
   "outputs": [],
   "source": [
    "phi_val = []\n",
    "\n",
    "for theta_val in theta_range:\n",
    "    if (theta_val < theta_i_val):\n",
    "        phi_val.append(arctan2(v1(theta).subs(L = L_val, theta_i = theta_i_val, theta = theta_val),Rp + y1(theta).subs(L = L_val, theta_i = theta_i_val, theta = theta_val)))\n",
    "    \n",
    "    elif (theta_val < theta_i_val + theta_d_val) :\n",
    "        phi_val.append(arctan2(v2(theta).subs(L = L_val),Rp + y2(theta).subs(L = L_val)))\n",
    "    elif (theta_val < theta_i_val + theta_d_val + theta_r_val) :\n",
    "        phi_val.append(arctan2(v3(theta).subs(L = L_val, theta_i = theta_i_val, theta = theta_val, theta_d = theta_d_val, theta_r = theta_r_val),Rp + y3(theta).subs(L = L_val, theta_i = theta_i_val, theta = theta_val, theta_d = theta_d_val, theta_r = theta_r_val)))\n",
    "    else:\n",
    "        phi_val.append(arctan2(v4(theta),Rp + y4(theta)))"
   ]
  },
  {
   "cell_type": "code",
   "execution_count": 162,
   "id": "8db7214a",
   "metadata": {},
   "outputs": [
    {
     "data": {
      "image/png": "[encoded data removed]",
      "text/plain": [
       "<Figure size 432x288 with 1 Axes>"
      ]
     },
     "metadata": {
      "needs_background": "light"
     },
     "output_type": "display_data"
    }
   ],
   "source": [
    "plt.plot(theta_range,phi_val)\n",
    "plt.grid()\n",
    "plt.xlabel(r'$\\theta$')\n",
    "plt.ylabel('phi')\n",
    "plt.title('Pressure Angle');"
   ]
  },
  {
   "cell_type": "code",
   "execution_count": null,
   "id": "6e52a4ca",
   "metadata": {},
   "outputs": [],
   "source": []
  }
 ],
 "metadata": {
  "kernelspec": {
   "display_name": "SageMath 9.5",
   "language": "sage",
   "name": "sagemath"
  },
  "language_info": {
   "codemirror_mode": {
    "name": "ipython",
    "version": 3
   },
   "file_extension": ".py",
   "mimetype": "text/x-python",
   "name": "python",
   "nbconvert_exporter": "python",
   "pygments_lexer": "ipython3",
   "version": "3.10.12"
  }
 },
 "nbformat": 4,
 "nbformat_minor": 5
}
